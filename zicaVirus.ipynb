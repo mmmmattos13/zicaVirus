{
 "cells": [
  {
   "cell_type": "markdown",
   "id": "7fd7e7ff",
   "metadata": {},
   "source": [
    "Análise de dados sobre o Zica Vírus no Brasil"
   ]
  },
  {
   "cell_type": "code",
   "execution_count": 101,
   "id": "ccf32bda",
   "metadata": {},
   "outputs": [],
   "source": [
    "import pandas as pd"
   ]
  },
  {
   "cell_type": "code",
   "execution_count": 102,
   "id": "059a8ab7",
   "metadata": {},
   "outputs": [],
   "source": [
    "#Atribuindo os dados para uma variável\n",
    "dadosZica_df23 = pd.read_csv(\"brazil-microcephaly-2016-01-23-table-1.csv\")\n",
    "dadosZica_df23_1 = pd.read_csv(\"brazil-microcephaly-2016-01-23-table-2.csv\")\n",
    "dadosZica_df30 = pd.read_csv(\"brazil-microcephaly-2016-01-30-table-1.csv\")"
   ]
  },
  {
   "cell_type": "code",
   "execution_count": 103,
   "id": "61e4979c",
   "metadata": {},
   "outputs": [
    {
     "data": {
      "text/html": [
       "<div>\n",
       "<style scoped>\n",
       "    .dataframe tbody tr th:only-of-type {\n",
       "        vertical-align: middle;\n",
       "    }\n",
       "\n",
       "    .dataframe tbody tr th {\n",
       "        vertical-align: top;\n",
       "    }\n",
       "\n",
       "    .dataframe thead th {\n",
       "        text-align: right;\n",
       "    }\n",
       "</style>\n",
       "<table border=\"1\" class=\"dataframe\">\n",
       "  <thead>\n",
       "    <tr style=\"text-align: right;\">\n",
       "      <th></th>\n",
       "      <th>state</th>\n",
       "      <th>cases_under_investigation</th>\n",
       "      <th>cases_reported_total</th>\n",
       "    </tr>\n",
       "  </thead>\n",
       "  <tbody>\n",
       "    <tr>\n",
       "      <th>10</th>\n",
       "      <td>Minas Gerais</td>\n",
       "      <td>8</td>\n",
       "      <td>48</td>\n",
       "    </tr>\n",
       "    <tr>\n",
       "      <th>36</th>\n",
       "      <td>Minas Gerais</td>\n",
       "      <td>21</td>\n",
       "      <td>58</td>\n",
       "    </tr>\n",
       "  </tbody>\n",
       "</table>\n",
       "</div>"
      ],
      "text/plain": [
       "           state cases_under_investigation cases_reported_total\n",
       "10  Minas Gerais                         8                   48\n",
       "36  Minas Gerais                        21                   58"
      ]
     },
     "metadata": {},
     "output_type": "display_data"
    }
   ],
   "source": [
    "#Criando variáveis para exibição de dados apenas para casos em investigação e reportados\n",
    "reportados_23 = pd.read_csv(\"brazil-microcephaly-2016-01-23-table-1.csv\", usecols = ['state','cases_under_investigation','cases_reported_total'])\n",
    "reportados_30 = pd.read_csv(\"brazil-microcephaly-2016-01-30-table-1.csv\", usecols = [1,2,5])\n",
    "\n",
    "#criando uma variável para combinar dois df\n",
    "novo_df = pd.merge(reportados_23, reportados_30, how = 'outer')\n",
    "\n",
    "#vizualizar o índice dos estados de MG\n",
    "display(novo_df.loc[novo_df['state'] == 'Minas Gerais'])\n",
    "\n",
    "casos_investigacao_mg = novo_df.loc[10,'cases_under_investigation']\n",
    "casos_investigacao_mg1 = novo_df.loc[36, 'cases_under_investigation']\n",
    "somaMG = int(casos_investigacao_mg) + int(casos_investigacao_mg1)\n",
    "\n"
   ]
  },
  {
   "cell_type": "code",
   "execution_count": 104,
   "id": "c87226ce",
   "metadata": {},
   "outputs": [
    {
     "data": {
      "text/html": [
       "<div>\n",
       "<style scoped>\n",
       "    .dataframe tbody tr th:only-of-type {\n",
       "        vertical-align: middle;\n",
       "    }\n",
       "\n",
       "    .dataframe tbody tr th {\n",
       "        vertical-align: top;\n",
       "    }\n",
       "\n",
       "    .dataframe thead th {\n",
       "        text-align: right;\n",
       "    }\n",
       "</style>\n",
       "<table border=\"1\" class=\"dataframe\">\n",
       "  <thead>\n",
       "    <tr style=\"text-align: right;\">\n",
       "      <th></th>\n",
       "      <th>state</th>\n",
       "      <th>cases_under_investigation</th>\n",
       "      <th>cases_reported_total</th>\n",
       "    </tr>\n",
       "  </thead>\n",
       "  <tbody>\n",
       "    <tr>\n",
       "      <th>11</th>\n",
       "      <td>Rio de Janeiro</td>\n",
       "      <td>122</td>\n",
       "      <td>122</td>\n",
       "    </tr>\n",
       "    <tr>\n",
       "      <th>37</th>\n",
       "      <td>Rio de Janeiro</td>\n",
       "      <td>196</td>\n",
       "      <td>208</td>\n",
       "    </tr>\n",
       "  </tbody>\n",
       "</table>\n",
       "</div>"
      ],
      "text/plain": [
       "             state cases_under_investigation cases_reported_total\n",
       "11  Rio de Janeiro                       122                  122\n",
       "37  Rio de Janeiro                       196                  208"
      ]
     },
     "metadata": {},
     "output_type": "display_data"
    }
   ],
   "source": [
    "display(novo_df.loc[novo_df['state'] == 'Rio de Janeiro'])\n",
    "\n",
    "casos_investigacao_rj = novo_df.loc[11, 'cases_under_investigation']\n",
    "casos_investigacao_rj1 = novo_df.loc[37, 'cases_under_investigation']\n",
    "somaRJ= int(casos_investigacao_rj) + int(casos_investigacao_rj1)\n"
   ]
  },
  {
   "cell_type": "code",
   "execution_count": 105,
   "id": "3ae92397",
   "metadata": {},
   "outputs": [
    {
     "data": {
      "text/html": [
       "<div>\n",
       "<style scoped>\n",
       "    .dataframe tbody tr th:only-of-type {\n",
       "        vertical-align: middle;\n",
       "    }\n",
       "\n",
       "    .dataframe tbody tr th {\n",
       "        vertical-align: top;\n",
       "    }\n",
       "\n",
       "    .dataframe thead th {\n",
       "        text-align: right;\n",
       "    }\n",
       "</style>\n",
       "<table border=\"1\" class=\"dataframe\">\n",
       "  <thead>\n",
       "    <tr style=\"text-align: right;\">\n",
       "      <th></th>\n",
       "      <th>state</th>\n",
       "      <th>cases_under_investigation</th>\n",
       "      <th>cases_reported_total</th>\n",
       "    </tr>\n",
       "  </thead>\n",
       "  <tbody>\n",
       "    <tr>\n",
       "      <th>12</th>\n",
       "      <td>São Paulo</td>\n",
       "      <td>18</td>\n",
       "      <td>18</td>\n",
       "    </tr>\n",
       "    <tr>\n",
       "      <th>38</th>\n",
       "      <td>São Paulo</td>\n",
       "      <td>101</td>\n",
       "      <td>126</td>\n",
       "    </tr>\n",
       "  </tbody>\n",
       "</table>\n",
       "</div>"
      ],
      "text/plain": [
       "        state cases_under_investigation cases_reported_total\n",
       "12  São Paulo                        18                   18\n",
       "38  São Paulo                       101                  126"
      ]
     },
     "metadata": {},
     "output_type": "display_data"
    }
   ],
   "source": [
    "display(novo_df.loc[novo_df['state'] == 'São Paulo'])\n",
    "\n",
    "casos_investigacao_sp = novo_df.loc[12, 'cases_under_investigation']\n",
    "casos_investigacao_sp1 = novo_df.loc[38, 'cases_under_investigation']\n",
    "somaSP = int(casos_investigacao_sp) + int(casos_investigacao_sp1)\n"
   ]
  },
  {
   "cell_type": "code",
   "execution_count": 106,
   "id": "568ba896",
   "metadata": {},
   "outputs": [
    {
     "data": {
      "text/html": [
       "<div>\n",
       "<style scoped>\n",
       "    .dataframe tbody tr th:only-of-type {\n",
       "        vertical-align: middle;\n",
       "    }\n",
       "\n",
       "    .dataframe tbody tr th {\n",
       "        vertical-align: top;\n",
       "    }\n",
       "\n",
       "    .dataframe thead th {\n",
       "        text-align: right;\n",
       "    }\n",
       "</style>\n",
       "<table border=\"1\" class=\"dataframe\">\n",
       "  <thead>\n",
       "    <tr style=\"text-align: right;\">\n",
       "      <th></th>\n",
       "      <th>state</th>\n",
       "      <th>cases_under_investigation</th>\n",
       "      <th>cases_reported_total</th>\n",
       "    </tr>\n",
       "  </thead>\n",
       "  <tbody>\n",
       "    <tr>\n",
       "      <th>9</th>\n",
       "      <td>Espírito Santo</td>\n",
       "      <td>52</td>\n",
       "      <td>52</td>\n",
       "    </tr>\n",
       "  </tbody>\n",
       "</table>\n",
       "</div>"
      ],
      "text/plain": [
       "            state cases_under_investigation cases_reported_total\n",
       "9  Espírito Santo                        52                   52"
      ]
     },
     "metadata": {},
     "output_type": "display_data"
    }
   ],
   "source": [
    "display(novo_df.loc[novo_df['state'] == 'Espírito Santo'])\n",
    "somaES = int(novo_df.loc[9, 'cases_under_investigation'])\n"
   ]
  },
  {
   "cell_type": "code",
   "execution_count": 107,
   "id": "b0f35784",
   "metadata": {},
   "outputs": [
    {
     "data": {
      "text/plain": [
       "'OK'"
      ]
     },
     "execution_count": 107,
     "metadata": {},
     "output_type": "execute_result"
    }
   ],
   "source": [
    "import pyautogui\n",
    "import pyperclip \n",
    "import time\n",
    "\n",
    "#Abrir o navegador \n",
    "pyautogui.PAUSE = 1\n",
    "pyautogui.press('winleft')\n",
    "pyautogui.write('brave')\n",
    "pyautogui.press('enter')\n",
    "pyautogui.alert(\"Não mexa em nada! Clique em <OK> para continuar...\")"
   ]
  },
  {
   "cell_type": "code",
   "execution_count": null,
   "id": "3d280bbb",
   "metadata": {},
   "outputs": [],
   "source": []
  },
  {
   "cell_type": "code",
   "execution_count": 108,
   "id": "7e8ae404",
   "metadata": {},
   "outputs": [],
   "source": [
    "#Abrir o e-mail \n",
    "\n",
    "link = \"www.gmail.com\"\n",
    "pyperclip.copy(link)\n",
    "pyautogui.hotkey('ctrl', 'v')\n",
    "pyautogui.press('enter')\n",
    "time.sleep(7)"
   ]
  },
  {
   "cell_type": "code",
   "execution_count": 109,
   "id": "3e9fa3b9",
   "metadata": {},
   "outputs": [
    {
     "data": {
      "text/plain": [
       "'OK'"
      ]
     },
     "execution_count": 109,
     "metadata": {},
     "output_type": "execute_result"
    }
   ],
   "source": [
    "#posicionando o cursor para saber as coordenadas da resolução \n",
    "#Coordenadas variam de monitor para monitor \n",
    "#time.sleep(5)\n",
    "#print(pyautogui.position())\n",
    "pyautogui.click(x=85, y=203) #buscar a resolução nos comandos acima\n",
    "destinatario = \"DIGITE AQUI O E-MAIL\"\n",
    "pyperclip.copy(destinatario)\n",
    "pyautogui.hotkey('ctrl', 'v')\n",
    "pyautogui.press('enter')\n",
    "pyautogui.press('tab')\n",
    "\n",
    "assunto = \"Total de Casos Zica Vírus Região Sudeste\"\n",
    "pyperclip.copy(assunto)\n",
    "pyautogui.hotkey('ctrl', 'v')\n",
    "pyautogui.press('tab')\n",
    "\n",
    "corpo_email = f\"\"\"Prezados, bom dia!\n",
    "\n",
    "Segue o número de casos em investigação pelo Zica Vírus na região sudeste: \n",
    "\n",
    "São Paulo: {somaSP} casos;\n",
    "Minas Gerais: {somaMG} casos;\n",
    "Rio de Janeiro: {somaRJ} casos;\n",
    "Espírito Santo: {somaES} casos.\n",
    "\n",
    "Respeitosamente, \n",
    "\n",
    "Fulano de tal.\"\"\"\n",
    "\n",
    "pyperclip.copy(corpo_email)\n",
    "pyautogui.hotkey('ctrl', 'v')\n",
    "time.sleep(1)\n",
    "pyautogui.press('tab')\n",
    "pyautogui.press('enter')\n",
    "time.sleep(2)\n",
    "pyautogui.alert(\"Finalizado!\")\n"
   ]
  },
  {
   "cell_type": "code",
   "execution_count": null,
   "id": "0d09a138",
   "metadata": {},
   "outputs": [],
   "source": []
  }
 ],
 "metadata": {
  "kernelspec": {
   "display_name": "Python 3 (ipykernel)",
   "language": "python",
   "name": "python3"
  },
  "language_info": {
   "codemirror_mode": {
    "name": "ipython",
    "version": 3
   },
   "file_extension": ".py",
   "mimetype": "text/x-python",
   "name": "python",
   "nbconvert_exporter": "python",
   "pygments_lexer": "ipython3",
   "version": "3.9.12"
  }
 },
 "nbformat": 4,
 "nbformat_minor": 5
}
